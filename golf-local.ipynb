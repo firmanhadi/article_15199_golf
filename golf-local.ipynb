{
  "nbformat": 4,
  "nbformat_minor": 0,
  "metadata": {
    "colab": {
      "name": "tellus-golf.ipynb",
      "provenance": [],
      "collapsed_sections": []
    },
    "kernelspec": {
      "name": "python3",
      "display_name": "Python 3"
    },
    "accelerator": "GPU"
  },
  "cells": [
    {
      "cell_type": "code",
      "metadata": {
        "id": "n7atG5m1GF5I",
        "colab_type": "code",
        "colab": {}
      },
      "source": [
        "# 利用するライブラリ\n",
        "import matplotlib.pyplot as plt\n",
        "import numpy as np\n",
        "import copy\n",
        "import time\n",
        "import os\n",
        "from tqdm import tqdm\n",
        "from PIL import Image\n",
        "\n",
        "import torch.nn as nn\n",
        "from torch.autograd import Variable\n",
        "import torch\n",
        "\n",
        "import torchvision.transforms as transforms\n",
        "import torchvision.models as models\n",
        "import torchvision"
      ],
      "execution_count": null,
      "outputs": []
    },
    {
      "cell_type": "code",
      "metadata": {
        "id": "zzkWRgLkGKuC",
        "colab_type": "code",
        "colab": {}
      },
      "source": [
        "transform = transforms.Compose(\n",
        "            [\n",
        "            # 画像サイズが異る場合は利用\n",
        "            # transforms.Resize((256,256)),\n",
        "             transforms.RandomHorizontalFlip(),\n",
        "             transforms.ToTensor()   \n",
        "             ])"
      ],
      "execution_count": null,
      "outputs": []
    },
    {
      "cell_type": "code",
      "metadata": {
        "id": "HRmDxpqCW9cC",
        "colab_type": "code",
        "colab": {}
      },
      "source": [
        "# google colab等で実行する際にフォルダ内に .ipynb_checkpoints があると、ラベルの対象になるので削除\n",
        "!rm -rf golf/.ipynb_checkpoints"
      ],
      "execution_count": null,
      "outputs": []
    },
    {
      "cell_type": "code",
      "metadata": {
        "id": "Efx8Etd-H3Y0",
        "colab_type": "code",
        "colab": {}
      },
      "source": [
        "data = torchvision.datasets.ImageFolder(root='./golf', transform=transform)"
      ],
      "execution_count": null,
      "outputs": []
    },
    {
      "cell_type": "code",
      "metadata": {
        "id": "eoxYzrHmVeB1",
        "colab_type": "code",
        "colab": {
          "base_uri": "https://localhost:8080/",
          "height": 34
        },
        "outputId": "2e882b9c-eee9-4cbb-ccc1-7578931f556a"
      },
      "source": [
        "data.class_to_idx"
      ],
      "execution_count": null,
      "outputs": []
    },
    {
      "cell_type": "code",
      "metadata": {
        "id": "pO9lYXlNLxC4",
        "colab_type": "code",
        "colab": {}
      },
      "source": [
        "train_size = int(0.8 * len(data))"
      ],
      "execution_count": null,
      "outputs": []
    },
    {
      "cell_type": "code",
      "metadata": {
        "id": "R6n7bH-kMcss",
        "colab_type": "code",
        "colab": {}
      },
      "source": [
        "val_size  = len(data) - train_size"
      ],
      "execution_count": null,
      "outputs": []
    },
    {
      "cell_type": "code",
      "metadata": {
        "id": "o5ei4wOoMd5C",
        "colab_type": "code",
        "colab": {}
      },
      "source": [
        "data_size  = {\"train\":train_size, \"val\":val_size}"
      ],
      "execution_count": null,
      "outputs": []
    },
    {
      "cell_type": "code",
      "metadata": {
        "id": "8qWDiv11MfTS",
        "colab_type": "code",
        "colab": {}
      },
      "source": [
        "data_train, data_val = torch.utils.data.random_split(data, [train_size, val_size])"
      ],
      "execution_count": null,
      "outputs": []
    },
    {
      "cell_type": "code",
      "metadata": {
        "id": "UI2TBJs2Mgxu",
        "colab_type": "code",
        "colab": {}
      },
      "source": [
        "train_loader = torch.utils.data.DataLoader(data_train, batch_size=8, shuffle=True)\n",
        "val_loader   = torch.utils.data.DataLoader(data_val,   batch_size=8, shuffle=False)\n",
        "dataloaders  = {\"train\":train_loader, \"val\":val_loader}"
      ],
      "execution_count": null,
      "outputs": []
    },
    {
      "cell_type": "code",
      "metadata": {
        "id": "TRe88tlfP5Zb",
        "colab_type": "code",
        "colab": {
          "base_uri": "https://localhost:8080/",
          "height": 128
        },
        "outputId": "573b4d15-bdda-4244-cbff-93c14312366c"
      },
      "source": [
        "def imshow(img):\n",
        "    npimg = img.numpy()\n",
        "    plt.imshow(np.transpose(npimg, (1, 2, 0)))\n",
        "    plt.show()\n",
        "\n",
        "# 訓練データをランダムに取得\n",
        "dataiter = iter(dataloaders[\"train\"])\n",
        "images, labels = dataiter.next()\n",
        "\n",
        "print(labels)\n",
        "\n",
        "# 画像の表示\n",
        "imshow(torchvision.utils.make_grid(images))\n",
        "# ラベルの表示\n",
        "print(' '.join('%5s' % labels[j].numpy() for j in range(8)))"
      ],
      "execution_count": null,
      "outputs": []
    },
    {
      "cell_type": "code",
      "metadata": {
        "id": "mk5-3AWOMlbJ",
        "colab_type": "code",
        "colab": {}
      },
      "source": [
        "model = models.resnet18(pretrained=True)"
      ],
      "execution_count": null,
      "outputs": []
    },
    {
      "cell_type": "code",
      "metadata": {
        "id": "e1nf1BcoMoaC",
        "colab_type": "code",
        "colab": {
          "base_uri": "https://localhost:8080/",
          "height": 1000
        },
        "outputId": "9ed6a68b-f866-4ef7-bb5f-85d42a0eae30"
      },
      "source": [
        "model"
      ],
      "execution_count": null,
      "outputs": []
    },
    {
      "cell_type": "code",
      "metadata": {
        "id": "_yZVe-vCMqmo",
        "colab_type": "code",
        "colab": {}
      },
      "source": [
        "for p in model.parameters():\n",
        "    p.requires_grad=False\n",
        "\n",
        "model.fc = nn.Linear(512, 2)"
      ],
      "execution_count": null,
      "outputs": []
    },
    {
      "cell_type": "code",
      "metadata": {
        "id": "ZcdtrqsCM1sk",
        "colab_type": "code",
        "colab": {}
      },
      "source": [
        "# CPU環境の場合は不要\n",
        "model = model.cuda()\n",
        "lr = 1e-4\n",
        "epoch = 40\n",
        "optim = torch.optim.Adam(model.parameters(), lr=lr, weight_decay=1e-4)\n",
        "\n",
        "# CPU環境の場合は cuda() は不要\n",
        "criterion = nn.CrossEntropyLoss().cuda()"
      ],
      "execution_count": null,
      "outputs": []
    },
    {
      "cell_type": "code",
      "metadata": {
        "id": "sNR0B_lDM5Ex",
        "colab_type": "code",
        "colab": {}
      },
      "source": [
        "def train_model(model, criterion, optimizer, scheduler=None, num_epochs=25):\n",
        "    since = time.time() \n",
        "\n",
        "    for epoch in tqdm(range(num_epochs)):\n",
        "        epoch_loss = 0\n",
        "        epoch_acc = 0\n",
        "\n",
        "        for phase in ['train', 'val']:\n",
        "            if phase == 'train':\n",
        "                model.train()\n",
        "            else:\n",
        "                model.eval()\n",
        "\n",
        "            running_loss = 0.0\n",
        "            running_corrects = 0\n",
        "\n",
        "            for data in dataloaders[phase]:\n",
        "                inputs, labels = data\n",
        "\n",
        "                # CPU環境では不要\n",
        "                inputs = inputs.cuda()\n",
        "                labels = labels.cuda()\n",
        "\n",
        "                outputs = model(inputs)\n",
        "                _, preds = torch.max(outputs.data, 1)\n",
        "                loss = criterion(outputs, labels)\n",
        "\n",
        "                if phase == 'train':\n",
        "                    optimizer.zero_grad()\n",
        "                    loss.backward()\n",
        "                    optimizer.step()\n",
        "\n",
        "\n",
        "                running_loss += loss.item() * inputs.size(0) \n",
        "                running_corrects += torch.sum(preds == labels)\n",
        "\n",
        "            epoch_loss = running_loss / data_size[phase]\n",
        "            epoch_acc = running_corrects.item() / data_size[phase]\n",
        "\n",
        "            print('{} Loss: {:.4f} Acc: {:.4f}'.format(phase, epoch_loss, epoch_acc))\n",
        "\n",
        "    return model"
      ],
      "execution_count": null,
      "outputs": []
    },
    {
      "cell_type": "code",
      "metadata": {
        "id": "OdJbWlkINhBJ",
        "colab_type": "code",
        "colab": {
          "base_uri": "https://localhost:8080/",
          "height": 1000
        },
        "outputId": "b44f5199-6e9f-4501-b1ec-a7e212d8e1f9"
      },
      "source": [
        "trained_model = train_model(model, criterion, optim, num_epochs=epoch)"
      ],
      "execution_count": null,
      "outputs": []
    },
    {
      "cell_type": "code",
      "metadata": {
        "id": "ri-Jo7ozNnMJ",
        "colab_type": "code",
        "colab": {}
      },
      "source": [
        "# 保存時\n",
        "torch.save(trained_model.state_dict(), './golf-model.pth')"
      ],
      "execution_count": null,
      "outputs": []
    },
    {
      "cell_type": "code",
      "metadata": {
        "id": "9wHEpYgsYjs2",
        "colab_type": "code",
        "colab": {}
      },
      "source": [
        "# 学習済みロード\n",
        "# model.load_state_dict(torch.load('./golf-model.pth'))"
      ],
      "execution_count": null,
      "outputs": []
    },
    {
      "cell_type": "code",
      "metadata": {
        "id": "JaXVFrbDYpaD",
        "colab_type": "code",
        "colab": {
          "base_uri": "https://localhost:8080/",
          "height": 85
        },
        "outputId": "e1e08e4d-981e-4b45-b735-128695521e1f"
      },
      "source": [
        "# 予測\n",
        "trained_model.eval()\n",
        "imsize = 256\n",
        "loader = transforms.Compose([transforms.Scale(imsize), transforms.ToTensor()])\n",
        "\n",
        "def image_loader(image_name):\n",
        "    \"\"\"load image, returns cuda tensor\"\"\"\n",
        "    image = Image.open(image_name).convert(\"RGB\")\n",
        "    image = loader(image)\n",
        "    image = Variable(image, requires_grad=True)\n",
        "    image = image.unsqueeze(0)  \n",
        "    return image.cuda()\n",
        "\n",
        "m = nn.Softmax(dim=1)\n",
        "\n",
        "image = image_loader('./positive.png')\n",
        "print(m(model(image)))\n",
        "\n",
        "image = image_loader('./negative.png')\n",
        "print(m(model(image)))"
      ],
      "execution_count": null,
      "outputs": []
    },
    {
      "cell_type": "code",
      "metadata": {
        "id": "1xr3bzzLYtNa",
        "colab_type": "code",
        "colab": {}
      },
      "source": [
        ""
      ],
      "execution_count": null,
      "outputs": []
    }
  ]
}